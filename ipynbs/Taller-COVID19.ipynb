{
 "cells": [
  {
   "cell_type": "markdown",
   "metadata": {},
   "source": [
    "# Decodificando la estructura secundaria de COVID-19 con Python y Pandas"
   ]
  },
  {
   "cell_type": "markdown",
   "metadata": {},
   "source": [
    "* * *\n",
    "\n",
    "### 1)  ¿Qué es el ARN ?\n",
    "\n",
    "\n",
    "|  ![Fosfato](../media/fosfato.png) | ![Ribosa](../media/ribosa.png) | ![Base nitrogenada](../media/bases_nitrogenadas.png) | ![ARN](../media/RAD.png) |\n",
    "|:-:|:-:|:-:|:-:|\n",
    "|  Grupo fosfato | Azúcar de ribosa | Base nitrogenada  | ARN vs ADN   |"
   ]
  },
  {
   "cell_type": "markdown",
   "metadata": {},
   "source": [
    "\n",
    "La molécula de ácido ribonucleico (ARN) desempeña funciones fundamentales en biología, incluida la transmisión de información genética, la regulación de la expresión génica y la catálisis de reacciones bioquímicas. Muchas moléculas de ARN o sus partes (dominios o motivos) se pliegan en estructuras tridimensionales (3D) estables que definen, al menos parcialmente, su capacidad de interactuar con otras moléculas y llevar a cabo sus tareas dentro de la célula."
   ]
  },
  {
   "cell_type": "markdown",
   "metadata": {},
   "source": [
    "\n",
    "### 2)  ¿Cuáles son los niveles de organización del ARN ?\n",
    "\n",
    "\n",
    "|  ![Fosfato](../media/nucleotidos.png) | ![Ribosa](../media/secundaria.png) | ![Base nitrogenada](../media/terciaria.gif) |\n",
    "|:-:|:-:|:-:|\n",
    "|  Primaria | Secundaria | Terciaria  |"
   ]
  },
  {
   "cell_type": "markdown",
   "metadata": {},
   "source": [
    "\n",
    "La molécula de ARN de una sola cadena, para poder ejercer una función necesita adoptar una estructura específica. La estructura primaria es la secuencia lineal de nucleótidos de Adenina, Guanina , Citosina y Uracilo. La estructura secundaria son todos los elementos de asa y horquilla, las bases desapareadas, bucles y estructuras centroides que se forman a partir de las interacciones por puentes de hidrógeno que se dan entre pares de bases nitrogenadas. La estructura terciaria es la conformación tridimensional de la molécula de ARN, esta emerge de las interacciones entre estructuras secundarias. Como el ARN está cargado negativamente, se necesitan iones metálicos como Mg2 + para estabilizar muchas estructuras secundarias y terciarias."
   ]
  },
  {
   "cell_type": "markdown",
   "metadata": {},
   "source": [
    "### 2) ¿Cómo modelamos la estructura secundaria del ARN?\n",
    "\n",
    "|  AAAUAGGCUAUA | ![zucker](../media/zucker.png)  | (((..((((...)))).))) | ![HAIRPIN](../media/hairpin.png)|\n",
    "|:-:|:-:|:-:|:-:|\n",
    "| Tomamos una secuencia de ARN  | Definimos parámetros e interacciones| Construimos modelo en notacion de brackets  |Simulamos la estructura secundaria| \n",
    "\n",
    "* * *"
   ]
  },
  {
   "cell_type": "markdown",
   "metadata": {},
   "source": [
    "\n",
    "### 3)  ¿Por qué modelar la estructura secundaria del ARN  de COVID19?\n",
    "\n",
    "\n",
    "|  ![Fosfato](../media/coronavirus.jpeg) | ![Ribosa](../media/rnam.png) | ![Base nitrogenada](../media/pepe.png) |\n",
    "|:-:|:-:|:-:|\n",
    "|  Coronavirus | ARNm | ?  |"
   ]
  },
  {
   "cell_type": "markdown",
   "metadata": {},
   "source": [
    "\n",
    "La estructura secundaria del ARN mensajero desempeña un papel importante en la biosíntesis de proteínas. Su impacto negativo en la traducción puede reducir la tasa de síntesis de una proteína al alentar o boquear el inicio y el movimiento de los ribosomas a lo largo del ARNm, convirtiéndose en un factor importante en la regulación de la expresión génica. Varios algoritmos pueden predecir la formación de estructuras secundarias calculando la energía libre mínima de las secuencias de ARN, o hallar una secuencia de ARN para una estructura dada. Si se aumenta la formación de  estructuras secundarias de ARNm  en COVID19 se puede disminuir la tasa a la que se sintetizan sus proteínas, haciendo menos efectivo su ciclo infectivo. \n"
   ]
  },
  {
   "cell_type": "markdown",
   "metadata": {},
   "source": [
    "### El objetivo de este taller es:"
   ]
  },
  {
   "cell_type": "markdown",
   "metadata": {},
   "source": [
    "Aprender a usar el cálculo de la MFE para predecir cambios en la estructura del ARN"
   ]
  },
  {
   "cell_type": "markdown",
   "metadata": {},
   "source": [
    "### El caso de hoy:"
   ]
  },
  {
   "cell_type": "markdown",
   "metadata": {},
   "source": [
    "Eres un biohacker que acaba de descubir un nuevo medicamento que tiene la habilidad de generar que las moléculas del ARN de coronavirus puedan aparearse de manera extraña. ¿Lograrás reducir la tasa de síntesis de su proteína RdRp?"
   ]
  },
  {
   "cell_type": "markdown",
   "metadata": {},
   "source": [
    "![pepeee](../media/pepescientist.jpeg)"
   ]
  },
  {
   "cell_type": "markdown",
   "metadata": {},
   "source": [
    "## Paso 0: Instala las siguientes librerías"
   ]
  },
  {
   "cell_type": "code",
   "execution_count": null,
   "metadata": {},
   "outputs": [],
   "source": [
    "!conda install pandas\n",
    "!conda install -c bioconda viennarna\n",
    "!pip install --upgrade forgi"
   ]
  },
  {
   "cell_type": "markdown",
   "metadata": {},
   "source": [
    "## Paso 1: Abrimos la secuencia del genoma de COVID-19 en formato fasta"
   ]
  },
  {
   "cell_type": "markdown",
   "metadata": {},
   "source": [
    "La función readgenome se encarga de \"leer\" la secuencia del genoma de COVID19 tal y como fue descargada de la base de datos del Instituto nacional de información para biotecnología (NCBI). En este recuadro, COVID19.fasta es la secuencia en formato fasta."
   ]
  },
  {
   "cell_type": "code",
   "execution_count": null,
   "metadata": {},
   "outputs": [],
   "source": [
    "def readgenome(filename):\n",
    "    genome =''\n",
    "    with open(filename,'r')as f:\n",
    "        for line in f:\n",
    "            if not line[0] == '>':\n",
    "                genome += line.rstrip()\n",
    "    return genome\n",
    "\n",
    "genome = readgenome('../data/COVID19.fasta')\n",
    "print(\"Largo en pb del genoma de COVID-19:\",len(genome))\n",
    "print(\"Secuencia de ADN:\",genome)\n"
   ]
  },
  {
   "cell_type": "markdown",
   "metadata": {},
   "source": [
    "## Paso 2: Generamos la secuencia de ARN a partir de la secuencia de ADN"
   ]
  },
  {
   "cell_type": "code",
   "execution_count": null,
   "metadata": {},
   "outputs": [],
   "source": [
    "rna= \"\"\n",
    "# Genera un archivo tipo string vacío en donde luego se guardara la secuencia de ARN\n",
    "for i in genome:\n",
    "    # Reemplaza todos los nucelótidos de Timina (T) con Uracilo (U)\n",
    "    if i == \"T\":\n",
    "        rna += \"U\"\n",
    "    else:\n",
    "        rna += i\n",
    "\n",
    "# Imprime el string de ARN\n",
    "print( \"Secuencia de ARN: \", rna)"
   ]
  },
  {
   "cell_type": "markdown",
   "metadata": {},
   "source": [
    "## Paso 3: Calculamos la MFE de la secuencia de ARN del dominio orf1ab de COVID-19"
   ]
  },
  {
   "cell_type": "markdown",
   "metadata": {},
   "source": [
    "Calculamos la energía mínima de plegamiento del genoma de COVID19 a través de un análisis de ventana corrediza, con un tamaño de ventana de 100 nt y saltos de 1 nt. Su MFE se calcula en los primeros 21555 nt porque en esta region se encuentra el dominio de la proteína Rdrp.**\n",
    "\n",
    "</pre>\n",
    "### Para efecto práctico de este taller solo tomaremos en cuenta los primeros 1000 nucleótidos"
   ]
  },
  {
   "cell_type": "code",
   "execution_count": null,
   "metadata": {},
   "outputs": [],
   "source": [
    "# Dominio de un orf1ab que sintetiza una poli-proteina  que contiene a Rdrp\n",
    "YP_009724389_1 = rna[0:1000]\n",
    "# en realidad es 21555\n",
    "print('YP_009724389_1:',len(YP_009724389_1))\n",
    "rna=YP_009724389_1 "
   ]
  },
  {
   "cell_type": "code",
   "execution_count": null,
   "metadata": {},
   "outputs": [],
   "source": [
    "import RNA\n",
    "fin=0\n",
    "def sliding_window_analysis(genome,function, window_size=100, step_size=1):\n",
    "    \"\"\"Devuelve un iterador que produce tuplas (inicio, fin, propiedad).\n",
    "    Donde start y end son los índices utilizados para dividir la lista de entrada\n",
    "    y function es el valor de retorno de la función dada la división\n",
    "    lista.\n",
    "    \"\"\"\n",
    "    for start in range(0, len(genome), step_size):\n",
    "        end = start + window_size\n",
    "        if end > len(genome):\n",
    "            break\n",
    "        yield start, end, function(genome[start:end])\n",
    "\n",
    "    for start in range(0, len(genome), window_size):\n",
    "        end = start + window_size\n",
    "        if end > len(genome):\n",
    "            break\n",
    "        yield start, end, function(genome[start:end])\n",
    "        \n",
    "        \n",
    "def fold_energy(genome):\n",
    "    'Devuelve la energía de plegamiento de la secuencia de cada ventana'\n",
    "    'Devuelve la energía de plegamiento de la secuencia de cada ventana'\n",
    "    import RNA\n",
    "    from RNA import params_load\n",
    "    params_load('../data/rna_turner2004.par') \n",
    "    RNA.cvar.dangles = 0\n",
    "    \n",
    "    fc = RNA.fold_compound(genome)\n",
    "    #Estas funciones calculan la estructura secundaria en notacion de brackets y la MFE\n",
    "    # Particularmente, la MFE compuesta, es decir de todas las conformaciones de RNA posibles \n",
    "    # es decir te da la MFE promedio de todas las estructuras secundarias potenicales a partir de una secuencia\n",
    "    (mfe_struct, mfe) = fc.mfe()\n",
    "    fc.exp_params_rescale(mfe)\n",
    "    #Esto genera la funcionde particion que forma parte del calculo de la MFE compuesta(promedio)\n",
    "    (pp, pf) = fc.pf()\n",
    "    comp_fe=pf\n",
    "    fin=pf\n",
    "    return fin"
   ]
  },
  {
   "cell_type": "code",
   "execution_count": null,
   "metadata": {},
   "outputs": [],
   "source": [
    "for start, end, fin in sliding_window_analysis(rna,fold_energy):\n",
    "    print(start,end,fin)"
   ]
  },
  {
   "cell_type": "markdown",
   "metadata": {},
   "source": [
    "## Paso 4: Guardamos nuestros resultados en un archivo CSV"
   ]
  },
  {
   "cell_type": "code",
   "execution_count": null,
   "metadata": {},
   "outputs": [],
   "source": [
    "def save_csv(file):\n",
    "    file ='../data/orf1ab_foldE_100.csv'\n",
    "    with open(file,'w')as file_handle:\n",
    "        header = \"start,middle,end,folding_energy_potential\\n\"\n",
    "        file_handle.write(header)\n",
    "        for start, end, fin in sliding_window_analysis(rna,fold_energy):\n",
    "            middle = (start + end ) / 2\n",
    "            row = \"{},{},{},{}\\n\".format(start, middle, end, fin)\n",
    "            file_handle.write(row) \n",
    "    return(file)   \n",
    "files=''\n",
    "save_csv(files)"
   ]
  },
  {
   "cell_type": "markdown",
   "metadata": {},
   "source": [
    "## Paso 5: Cambiamos los parámetros iniciales de simulación para  armar el modelo \"Dummy\""
   ]
  },
  {
   "cell_type": "code",
   "execution_count": null,
   "metadata": {},
   "outputs": [],
   "source": [
    "fin=0\n",
    "def sliding_window_analysis(genome,function, window_size=100, step_size=1):\n",
    "    \"\"\"Devuelve un iterador que produce tuplas (inicio, fin, propiedad).\n",
    "    Donde start y end son los índices utilizados para dividir la lista de entrada\n",
    "    y function es el valor de retorno de la función dada la división\n",
    "    lista.\n",
    "    \"\"\"\n",
    "    for start in range(0, len(genome), step_size):\n",
    "        end = start + window_size\n",
    "        if end > len(genome):\n",
    "            break\n",
    "        yield start, end, function(genome[start:end])\n",
    "\n",
    "    for start in range(0, len(genome), window_size):\n",
    "        end = start + window_size\n",
    "        if end > len(genome):\n",
    "            break\n",
    "        yield start, end, function(genome[start:end])\n",
    "        \n",
    "        \n",
    "def fold_energy(genome):\n",
    "    'Devuelve la energía de plegamiento de la secuencia de cada ventana'\n",
    "    import RNA     \n",
    "    RNA.cvar.dangles = 0\n",
    "# Estructura de datos que va a pasarse a la función para provocar el emparejamiento máximo en el modelo dummy\n",
    "# con dos componentes:\n",
    "# 1. Un modelo 'dummy' de plegamiento para evaluar la energía de los bucles sin restricciones \n",
    "#2. Un set nuevo de parámetros de energía\n",
    "    mm_data = { 'dummy': RNA.fold_compound(genome), 'params': RNA.param() }\n",
    "# Nearest Neighbor Parameter reversal functions\n",
    "    revert_NN = { \n",
    "        RNA.DECOMP_PAIR_HP:       lambda i, j, k, l, f, p: - f.eval_hp_loop(i, j) - 500,\n",
    "        RNA.DECOMP_PAIR_IL:       lambda i, j, k, l, f, p: - f.eval_int_loop(i, j, k, l) - 500,\n",
    "        RNA.DECOMP_PAIR_ML:       lambda i, j, k, l, f, p: - p.MLclosing - p.MLintern[0] - (j - i - k + l - 2) * p.MLbase - 100,\n",
    "        RNA.DECOMP_ML_ML_STEM:    lambda i, j, k, l, f, p: - p.MLintern[0] - (l - k - 1) * p.MLbase,\n",
    "        RNA.DECOMP_ML_STEM:       lambda i, j, k, l, f, p: - p.MLintern[0] - (j - i - k + l) * p.MLbase,\n",
    "        RNA.DECOMP_ML_ML:         lambda i, j, k, l, f, p: - (j - i - k + l) * p.MLbase,\n",
    "        RNA.DECOMP_ML_ML_ML:      lambda i, j, k, l, f, p: 0,\n",
    "        RNA.DECOMP_ML_UP:         lambda i, j, k, l, f, p: - (j - i + 1) * p.MLbase,\n",
    "        RNA.DECOMP_EXT_STEM:      lambda i, j, k, l, f, p: - f.E_ext_loop(k, l),\n",
    "        RNA.DECOMP_EXT_EXT:       lambda i, j, k, l, f, p: 0,\n",
    "        RNA.DECOMP_EXT_STEM_EXT:  lambda i, j, k, l, f, p: - f.E_ext_loop(i, k),\n",
    "        RNA.DECOMP_EXT_EXT_STEM:  lambda i, j, k, l, f, p: - f.E_ext_loop(l, j),\n",
    "        RNA.DECOMP_EXT_EXT_STEM1: lambda i, j, k, l, f, p: - f.E_ext_loop(l, j-1),\n",
    "            }\n",
    "# Funcion de emparejamiento máximo que llama la libreria RNA\n",
    "    def MaximumMatching(i, j, k, l, d, data):\n",
    "        return revert_NN[d](i, j, k, l, data['dummy'], data['params'])\n",
    "# Hace un elemento compuesto \n",
    "    fc = RNA.fold_compound(genome)\n",
    "# Adiciona el emparejamiento maximo entre pares de bases\n",
    "    fc.sc_add_f(MaximumMatching)\n",
    "    fc.sc_add_data(mm_data, None)\n",
    "# llama el agoritmo propio de RNAfold para calcular la MFE\n",
    "    (s, mm) = fc.mfe()\n",
    "    fin=mm\n",
    "    return fin\n"
   ]
  },
  {
   "cell_type": "code",
   "execution_count": null,
   "metadata": {},
   "outputs": [],
   "source": [
    "for start, end, fin in sliding_window_analysis(rna,fold_energy):\n",
    "    print(start,end,fin)"
   ]
  },
  {
   "cell_type": "markdown",
   "metadata": {},
   "source": [
    "## Paso 6: Guardamos resultados"
   ]
  },
  {
   "cell_type": "code",
   "execution_count": null,
   "metadata": {},
   "outputs": [],
   "source": [
    "def save_csv(file):\n",
    "    file ='../data/drunk_foldE_100.csv'\n",
    "    with open(file,'w')as file_handle:\n",
    "        header = \"start,middle,end,folding_energy_potential\\n\"\n",
    "        file_handle.write(header)\n",
    "        for start, end, fin in sliding_window_analysis(rna,fold_energy):\n",
    "            middle = (start + end ) / 2\n",
    "            row = \"{},{},{},{}\\n\".format(start, middle, end, fin)\n",
    "            file_handle.write(row) \n",
    "    return(file)   \n",
    "files=''\n",
    "save_csv(files)"
   ]
  },
  {
   "cell_type": "markdown",
   "metadata": {},
   "source": [
    "## Paso 7: Graficamos el cambio de MFE por ventana para cada resultado CSV"
   ]
  },
  {
   "cell_type": "code",
   "execution_count": null,
   "metadata": {},
   "outputs": [],
   "source": [
    "import pandas as pd\n",
    "import matplotlib.pyplot as plt\n",
    "\n",
    "df=pd.read_csv('../data/orf1ab_foldE_100.csv')\n",
    "df2=pd.read_csv('../data/drunk_foldE_100.csv')\n",
    "\n",
    "middle_list = df.middle.tolist()\n",
    "orf1ab_list = df.folding_energy_potential.tolist()\n",
    "drunk_list= df2.folding_energy_potential.tolist()\n",
    "x=middle_list\n",
    "y=orf1ab_list\n",
    "y1=drunk_list\n",
    "# El eje Y es la MFE de una ventana\n",
    "#El eje X es el punto medio de una ventana\n",
    "\n",
    "plt.plot(y,'g*', y1, 'ro')\n"
   ]
  },
  {
   "cell_type": "markdown",
   "metadata": {},
   "source": [
    "# Y ....¿Qué paso con simular?"
   ]
  },
  {
   "cell_type": "markdown",
   "metadata": {},
   "source": [
    "## Paso 8: Manipulación de resultados"
   ]
  },
  {
   "cell_type": "markdown",
   "metadata": {},
   "source": [
    "Ahora manipularemos nuestros resultados , para observar cambios en la estructura secundaria del ARN. Seleccionaremos solo la ventana más negativa de COVID-19 y la ventana más negativa de COVID_drunk para simular su estructura secundaria en notación de brackets, para posteriormente visualizar ambas estructuras y apreciar los cambios al mover los parámetros iniciales de la simulación"
   ]
  },
  {
   "cell_type": "code",
   "execution_count": null,
   "metadata": {},
   "outputs": [],
   "source": [
    "# ed llama a nuestro archivo CSV de COVID-19 y nos devuelve una lista de valores\n",
    "#sort los ordena de mayor a menor, sin importar que sean negativos\n",
    "ed=df.sort_values('folding_energy_potential')\n",
    "e=ed.head(10)\n",
    "print(e)"
   ]
  },
  {
   "cell_type": "code",
   "execution_count": null,
   "metadata": {},
   "outputs": [],
   "source": [
    "# adllama a nuestro archivo CSV de COVID dummy(drunk) y nos devuelve una lista de valores\n",
    "#sort los ordena de mayor a menor, sin importar que sean negativos\n",
    "ad=df2.sort_values('folding_energy_potential')\n",
    "asd=ad.head(10)\n",
    "print(asd)"
   ]
  },
  {
   "cell_type": "markdown",
   "metadata": {},
   "source": [
    "## Paso 9: Encontramos la estructuras secundarias en notación de brackets"
   ]
  },
  {
   "cell_type": "code",
   "execution_count": null,
   "metadata": {},
   "outputs": [],
   "source": [
    "#Computamos la estructura secundaria de RNA de COVID-19\n",
    "import RNA\n",
    "s=rna[318:418]\n",
    "\n",
    "(ss, mfe) = RNA.fold(s)\n",
    "# print output\n",
    "print(\"%s\\n%s (%6.2f)\" % (s, ss, mfe))"
   ]
  },
  {
   "cell_type": "code",
   "execution_count": null,
   "metadata": {},
   "outputs": [],
   "source": [
    "#Computamos la estructura secundaria de RNA del modelo dummy de COVID-19, usando los parámetros dummy\n",
    "import RNA\n",
    "s=rna[318:418]\n",
    "\n",
    "seq1 = s\n",
    "RNA.cvar.dangles = 0\n",
    "mm_data = { 'dummy': RNA.fold_compound(seq1), 'params': RNA.param() }\n",
    "revert_NN = { \n",
    "    RNA.DECOMP_PAIR_HP:       lambda i, j, k, l, f, p: - f.eval_hp_loop(i, j) - 500,\n",
    "    RNA.DECOMP_PAIR_IL:       lambda i, j, k, l, f, p: - f.eval_int_loop(i, j, k, l) - 500,\n",
    "    RNA.DECOMP_PAIR_ML:       lambda i, j, k, l, f, p: - p.MLclosing - p.MLintern[0] - (j - i - k + l - 2) * p.MLbase - 100,\n",
    "    RNA.DECOMP_ML_ML_STEM:    lambda i, j, k, l, f, p: - p.MLintern[0] - (l - k - 1) * p.MLbase,\n",
    "    RNA.DECOMP_ML_STEM:       lambda i, j, k, l, f, p: - p.MLintern[0] - (j - i - k + l) * p.MLbase,\n",
    "    RNA.DECOMP_ML_ML:         lambda i, j, k, l, f, p: - (j - i - k + l) * p.MLbase,\n",
    "    RNA.DECOMP_ML_ML_ML:      lambda i, j, k, l, f, p: 0,\n",
    "    RNA.DECOMP_ML_UP:         lambda i, j, k, l, f, p: - (j - i + 1) * p.MLbase,\n",
    "    RNA.DECOMP_EXT_STEM:      lambda i, j, k, l, f, p: - f.E_ext_loop(k, l),\n",
    "    RNA.DECOMP_EXT_EXT:       lambda i, j, k, l, f, p: 0,\n",
    "    RNA.DECOMP_EXT_STEM_EXT:  lambda i, j, k, l, f, p: - f.E_ext_loop(i, k),\n",
    "    RNA.DECOMP_EXT_EXT_STEM:  lambda i, j, k, l, f, p: - f.E_ext_loop(l, j),\n",
    "    RNA.DECOMP_EXT_EXT_STEM1: lambda i, j, k, l, f, p: - f.E_ext_loop(l, j-1),\n",
    "            }\n",
    "def MaximumMatching(i, j, k, l, d, data):\n",
    "    return revert_NN[d](i, j, k, l, data['dummy'], data['params'])\n",
    "\n",
    "fc = RNA.fold_compound(seq1)\n",
    "fc.sc_add_f(MaximumMatching)\n",
    "fc.sc_add_data(mm_data, None)\n",
    "(s, mm) = fc.mfe()\n",
    "print(\"%s\\n%s (MM: %d)\\n\" %  (seq1, s, mm))\n"
   ]
  },
  {
   "cell_type": "markdown",
   "metadata": {},
   "source": [
    "## Paso 10: Simulamos la estructuras secundarias "
   ]
  },
  {
   "cell_type": "code",
   "execution_count": null,
   "metadata": {},
   "outputs": [],
   "source": [
    "import matplotlib.pyplot as plt\n",
    "import forgi.visual.mplotlib as fvm\n",
    "import forgi\n",
    "cg = forgi.load_rna(\"../data/corona.fx\", allow_many=False)\n",
    "fvm.plot_rna(cg, text_kwargs={\"fontweight\":\"black\"}, lighten=0.1,\n",
    "             backbone_kwargs={\"linewidth\":1})\n",
    "plt.show()"
   ]
  },
  {
   "cell_type": "code",
   "execution_count": null,
   "metadata": {},
   "outputs": [],
   "source": [
    "import matplotlib.pyplot as plt\n",
    "import forgi.visual.mplotlib as fvm\n",
    "import forgi\n",
    "cg = forgi.load_rna(\"../data/drunk.fx\", allow_many=False)\n",
    "fvm.plot_rna(cg, text_kwargs={\"fontweight\":\"black\"}, lighten=0.1,\n",
    "             backbone_kwargs={\"linewidth\":1})\n",
    "plt.show()"
   ]
  },
  {
   "cell_type": "markdown",
   "metadata": {},
   "source": [
    "## ¡Gracias!\n",
    "\n"
   ]
  },
  {
   "cell_type": "markdown",
   "metadata": {},
   "source": [
    "![wohoo](../media/thanks.jpg)"
   ]
  },
  {
   "cell_type": "code",
   "execution_count": null,
   "metadata": {},
   "outputs": [],
   "source": []
  },
  {
   "cell_type": "code",
   "execution_count": null,
   "metadata": {},
   "outputs": [],
   "source": []
  },
  {
   "cell_type": "code",
   "execution_count": null,
   "metadata": {},
   "outputs": [],
   "source": []
  },
  {
   "cell_type": "code",
   "execution_count": null,
   "metadata": {},
   "outputs": [],
   "source": []
  }
 ],
 "metadata": {
  "kernelspec": {
   "display_name": "Python 3",
   "language": "python",
   "name": "python3"
  },
  "language_info": {
   "codemirror_mode": {
    "name": "ipython",
    "version": 3
   },
   "file_extension": ".py",
   "mimetype": "text/x-python",
   "name": "python",
   "nbconvert_exporter": "python",
   "pygments_lexer": "ipython3",
   "version": "3.7.6"
  }
 },
 "nbformat": 4,
 "nbformat_minor": 4
}
